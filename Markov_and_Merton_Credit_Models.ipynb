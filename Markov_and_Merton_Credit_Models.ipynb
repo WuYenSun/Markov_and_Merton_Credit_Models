{
  "nbformat": 4,
  "nbformat_minor": 0,
  "metadata": {
    "colab": {
      "provenance": []
    },
    "kernelspec": {
      "name": "python3",
      "display_name": "Python 3"
    },
    "language_info": {
      "name": "python"
    }
  },
  "cells": [
    {
      "cell_type": "code",
      "execution_count": 1,
      "metadata": {
        "id": "n_SbJRMrS6uv"
      },
      "outputs": [],
      "source": [
        "import numpy as np\n",
        "import pandas as pd\n",
        "from scipy.linalg import logm, expm\n",
        "from scipy.stats import norm\n",
        "from scipy.optimize import fsolve\n",
        "from matplotlib import pyplot as plt"
      ]
    },
    {
      "cell_type": "markdown",
      "source": [
        "## Markov Chain\n",
        "Let's consider a Markov Chain comprising three states: $G$, $B$, and $D$ (representing \"good,\" \"bad,\" and \"default\" respectively). The following is the risk-neutral probability transition matrix $M$ for a time period of 0.25 years.\n",
        "\n",
        "\\begin{equation*}\n",
        "M(T=0.25) =\n",
        "\\begin{pmatrix}\n",
        "99\\% & 0.75\\% & 0.25\\% \\\\\n",
        "1.75\\% & 94.75\\% & 3.5\\% \\\\\n",
        "0 & 0 & 1\n",
        "\\end{pmatrix}\n",
        "\\end{equation*}\n",
        "\n",
        "\n",
        "The exponential form $e^{AT}$ provides a convenient way to express the transition matrix $M$, particularly when dealing with non-multiple time periods such as $M(T=0.3)$.\n",
        "\n",
        "\\begin{equation*}\n",
        "e^{AT} = M(T)\n",
        "\\end{equation*}"
      ],
      "metadata": {
        "id": "AVzhE67QUPsA"
      }
    },
    {
      "cell_type": "code",
      "source": [
        "# Parameters\n",
        "T, M = 0.25, np.array([[0.99, 0.0075, 0.0025],\n",
        "                       [0.0175, 0.9475, 0.035],\n",
        "                       [0, 0, 1]])\n",
        "A = logm(M)/T\n",
        "print(f'Verify that the sum of each row equals one: {M.sum(axis=1)}')"
      ],
      "metadata": {
        "colab": {
          "base_uri": "https://localhost:8080/"
        },
        "id": "ikKpTKm9TWOt",
        "outputId": "bb1e3404-4ae5-4da7-8e0f-7f69c544815a"
      },
      "execution_count": 2,
      "outputs": [
        {
          "output_type": "stream",
          "name": "stdout",
          "text": [
            "Verify that the sum of each row equals one: [1. 1. 1.]\n"
          ]
        }
      ]
    },
    {
      "cell_type": "code",
      "source": [
        "# Verify A\n",
        "print(M @ M)\n",
        "print(expm(A*0.5))"
      ],
      "metadata": {
        "colab": {
          "base_uri": "https://localhost:8080/"
        },
        "id": "t9LdQHwUT6sC",
        "outputId": "a84dc8b1-db83-40d3-f8b3-0abb5587ef4f"
      },
      "execution_count": 3,
      "outputs": [
        {
          "output_type": "stream",
          "name": "stdout",
          "text": [
            "[[0.98023125 0.01453125 0.0052375 ]\n",
            " [0.03390625 0.8978875  0.06820625]\n",
            " [0.         0.         1.        ]]\n",
            "[[0.98023125 0.01453125 0.0052375 ]\n",
            " [0.03390625 0.8978875  0.06820625]\n",
            " [0.         0.         1.        ]]\n"
          ]
        }
      ]
    },
    {
      "cell_type": "markdown",
      "source": [
        "Let's consider a 6-year risky coupon bond that offers an annual coupon rate of 5% until it reaches maturity. The credit quality of the underlying firm can be characterized using the transition matrix $M$. In the event of a default by the underlying firm, the bond will become void, resulting in no recovery at the time of default.The risk-free (continuously compounded) interest rate is constant at 2%."
      ],
      "metadata": {
        "id": "85HSuz34ZK0j"
      }
    },
    {
      "cell_type": "code",
      "source": [
        "r = 0.02\n",
        "Ts = [1, 2, 3, 4, 5, 6]\n",
        "CFs = [5, 5, 5, 5, 5, 105]\n",
        "\n",
        "price = np.array([0.0]*len(A))\n",
        "for t, cf in zip(Ts, CFs):\n",
        "  price += cf * np.exp(-r*t) * ( 1 - expm(A*t)[:, -1] )\n",
        "\n",
        "print(f'when intial state is G, the bond price is {price[0]}')\n",
        "print(f'when intial state is B, the bond price is {price[1]}')\n",
        "print(f'when intial state is D, the bond price is {price[2]}')"
      ],
      "metadata": {
        "colab": {
          "base_uri": "https://localhost:8080/"
        },
        "id": "Q0nj6hfi-mt4",
        "outputId": "9cc89ecf-2f99-4267-a05f-e5dbf97bb818"
      },
      "execution_count": 4,
      "outputs": [
        {
          "output_type": "stream",
          "name": "stdout",
          "text": [
            "when intial state is G, the bond price is 106.2244054724025\n",
            "when intial state is B, the bond price is 63.2864736049127\n",
            "when intial state is D, the bond price is 0.0\n"
          ]
        }
      ]
    },
    {
      "cell_type": "markdown",
      "source": [
        "Encapsulate the bond pricing model within a class structure"
      ],
      "metadata": {
        "id": "XoaMJLPjBUnR"
      }
    },
    {
      "cell_type": "code",
      "source": [
        "class Markov_Chain:\n",
        "\n",
        "    def __init__(self, M, T):\n",
        "      self.A = logm(M) / T\n",
        "\n",
        "    def transition_matrix(self, T):\n",
        "      return expm(self.A * T)\n",
        "\n",
        "    def bond_pricing(self, r, Ts, CFs):\n",
        "      price = np.array([0.0]*len(self.A))\n",
        "      for t, cf in zip(Ts, CFs):\n",
        "        price += cf * np.exp(-r*t) * ( 1 - expm(A*t)[:, -1] )\n",
        "      return price"
      ],
      "metadata": {
        "id": "n-MPLUUtBU-K"
      },
      "execution_count": 5,
      "outputs": []
    },
    {
      "cell_type": "code",
      "source": [
        "# Verify the answer\n",
        "markov_chain0 = Markov_Chain(M, T)\n",
        "print(f'transition matrix M(T = 0.5) is: \\n{markov_chain0.transition_matrix(0.5)}\\n')\n",
        "print(f'bond prices are: \\n{markov_chain0.bond_pricing(r, Ts, CFs)}')"
      ],
      "metadata": {
        "colab": {
          "base_uri": "https://localhost:8080/"
        },
        "id": "9vuAVgBECp9T",
        "outputId": "a72283e6-2c78-4d75-adf1-8401133c7492"
      },
      "execution_count": 6,
      "outputs": [
        {
          "output_type": "stream",
          "name": "stdout",
          "text": [
            "transition matrix M(T = 0.5) is: \n",
            "[[0.98023125 0.01453125 0.0052375 ]\n",
            " [0.03390625 0.8978875  0.06820625]\n",
            " [0.         0.         1.        ]]\n",
            "\n",
            "bond prices are: \n",
            "[106.22440547  63.2864736    0.        ]\n"
          ]
        }
      ]
    },
    {
      "cell_type": "markdown",
      "source": [
        "Let us consider $X(0,T)$ be the survival probability as a function of the horizon $T$. Define the term hazard rate $\\lambda(T)$ as $X(0,T) = e^{−\\lambda(T)T}$. Now, let's graph the term hazard rates for the initial states $G$ and $B$.\n",
        "\n",
        "\n",
        "When the initial state is $B$, the term hazard rate $\\lambda(T)$ exhibits a negative slope. Conversely, when the initial state is $G$, the term hazard rate $\\lambda(T)$ displays a positive slope. This observation can be attributed to the reason that the impact of the initial state diminishes as the horizon $T$ increases."
      ],
      "metadata": {
        "id": "TVdh_byScTct"
      }
    },
    {
      "cell_type": "code",
      "source": [
        "horizons = np.linspace(1e-5, 40, num=100)\n",
        "X_G = []\n",
        "X_B = []\n",
        "\n",
        "for T in horizons:\n",
        "    X_G.append(1-expm(A*T)[0, -1])\n",
        "    X_B.append(1-expm(A*T)[1, -1])\n",
        "\n",
        "lambda_G = -np.log(np.array(X_G))/horizons\n",
        "lambda_B = -np.log(np.array(X_B))/horizons\n",
        "\n",
        "plt.plot(horizons,lambda_G, color ='green', label='G')\n",
        "plt.plot(horizons,lambda_B, color ='blue', label ='B')\n",
        "plt.title('lambda(T)')\n",
        "plt.xlabel('horizon T')\n",
        "plt.ylabel('lambda')\n",
        "plt.legend()\n",
        "plt.show()"
      ],
      "metadata": {
        "colab": {
          "base_uri": "https://localhost:8080/",
          "height": 472
        },
        "id": "Vbxdgau1FOnE",
        "outputId": "b8839501-678f-430b-d5f1-15e4e5c84496"
      },
      "execution_count": 7,
      "outputs": [
        {
          "output_type": "display_data",
          "data": {
            "text/plain": [
              "<Figure size 640x480 with 1 Axes>"
            ],
            "image/png": "[encoded data removed]"
          },
          "metadata": {}
        }
      ]
    },
    {
      "cell_type": "code",
      "source": [],
      "metadata": {
        "id": "iXowQ6g6fWKm"
      },
      "execution_count": 7,
      "outputs": []
    },
    {
      "cell_type": "markdown",
      "source": [
        "## Structural Model\n",
        "\n",
        "\\begin{align*}\n",
        "C(A,D_F,r,T,\\sigma) &= E = SN(d_1) - D_Fe^{-rT}N(d_2) \\\\\n",
        "\\end{align*}\n",
        "where\n",
        "\\begin{align*}\n",
        "d_1 &= \\frac{1}{\\sigma \\sqrt{T}}\\biggr[ \\log \\biggl( \\frac{A}{D_F} \\biggr) + \\biggl( r + \\frac{\\sigma^2}{2} \\biggr) T \\biggr]\\\\\n",
        "d_2 &= d_1 - \\sigma\\sqrt{T}\n",
        "\\end{align*}\n",
        "\n",
        "Let's consider a standard Merton model applied to a firm with an initial equity value of $E(t = 0) = \\$10$ and a face value of 5-year debt of $D_F = \\$10$. The risk-free interest rate, compounded continuously, is denoted as $r = 2\\%$. Additionally, we assume that the estimated volatility of the firm's assets is $30\\%$."
      ],
      "metadata": {
        "id": "ZpK3a_OpheKi"
      }
    },
    {
      "cell_type": "code",
      "source": [
        "# Parameter\n",
        "E0 = 10\n",
        "Df = 10\n",
        "r = 0.02\n",
        "T = 5\n",
        "sigma = 0.3"
      ],
      "metadata": {
        "id": "HGwVN7Qcg6oU"
      },
      "execution_count": 8,
      "outputs": []
    },
    {
      "cell_type": "code",
      "source": [
        "def BS(A):\n",
        "    d1 = (np.log(A/Df) +(r + 1/2 * sigma**2)*T) / (sigma * np.sqrt(T))\n",
        "    d2 = (np.log(A/Df) +(r - 1/2 * sigma**2)*T) / (sigma * np.sqrt(T))\n",
        "    return A * norm.cdf(d1) - Df * (np.exp(-r*T)) * norm.cdf(d2) - E0\n",
        "\n",
        "solve = fsolve(BS, E0)\n",
        "asset_initial = solve[0]\n",
        "debt_initial = asset_initial - E0\n",
        "\n",
        "d2 = (np.log(asset_initial/Df) +(r - 1/2 * sigma**2)*T) / (sigma * np.sqrt(T))\n",
        "survival_rate = norm.cdf(d2)\n",
        "\n",
        "\n",
        "print(f'The time-0 fair price of the firm’s assets is {asset_initial}')\n",
        "print(f'The time-0 fair price of the firm’s debt is {debt_initial}')\n",
        "print(f'The 5-year survival (risk-neutral )probability of the firm is {survival_rate}')"
      ],
      "metadata": {
        "colab": {
          "base_uri": "https://localhost:8080/"
        },
        "id": "nxeJoz9thq6q",
        "outputId": "8b251d92-7f73-4cf3-bb71-b1eed84f8f87"
      },
      "execution_count": 9,
      "outputs": [
        {
          "output_type": "stream",
          "name": "stdout",
          "text": [
            "The time-0 fair price of the firm’s assets is 18.42882658967022\n",
            "The time-0 fair price of the firm’s debt is 8.42882658967022\n",
            "The 5-year survival (risk-neutral )probability of the firm is 0.7657676850600381\n"
          ]
        }
      ]
    },
    {
      "cell_type": "markdown",
      "source": [
        "Now let's consider an extended Merton model with a constant continuous-time barrier $H_t = H = D_F$. In this model, we assume that the assets have drift $\\mu = r$, and all other parameters remain the same as before. Let $\\tau := \\inf \\{t>0 \\mid A(t) < H\\}$ be the default time of the firm. It can be shown that (using reflection principal):\n",
        "\n",
        "\\begin{align*}\n",
        "&\\Pr(\\tau < t) = N(\\frac{h-at}{\\sigma \\sqrt{t}}) + e^{\\frac{2ah}{\\sigma^2}}N(\\frac{h+at}{\\sigma \\sqrt{t}})\\\\\n",
        "& \\textit{where } a = r - \\frac{\\sigma^2}{2} \\textit{ and } h = \\log(\\frac{H}{A(0)})\n",
        "\\end{align*}\n",
        "\n",
        "In the extended Merton model, any realization that reaches the boundary $H$ and surpasses $D_F$ is considered a default, while in the standard Merton model, it is not categorized as a default. These default realizations have a collective probability greater than zero. However, other realizations are consistently categorized in both models. Consequently, the 5-year survival rate in the extended Merton model is lower compared to the survival rate in the standard Merton model."
      ],
      "metadata": {
        "id": "ioMFjIG6mdhM"
      }
    },
    {
      "cell_type": "code",
      "source": [
        "a = r - 0.5 * sigma**2\n",
        "h = np.log(Df / asset_initial)\n",
        "\n",
        "default_rate = norm.cdf((h - a*T)/(sigma*np.sqrt(T))) +\\\n",
        "                np.exp(2*h*a / sigma**2) * norm.cdf((h + a*T)/(sigma*np.sqrt(T)))\n",
        "survival_rate = 1 - default_rate\n",
        "\n",
        "print(f'The 5-year survival probability of the firm is {survival_rate}')"
      ],
      "metadata": {
        "colab": {
          "base_uri": "https://localhost:8080/"
        },
        "id": "lj0cIbDakGxt",
        "outputId": "687e53af-e2c1-4c3c-c535-9ff2d5f487af"
      },
      "execution_count": 10,
      "outputs": [
        {
          "output_type": "stream",
          "name": "stdout",
          "text": [
            "The 5-year survival probability of the firm is 0.5745171658288526\n"
          ]
        }
      ]
    },
    {
      "cell_type": "markdown",
      "source": [
        "Contrary to real markets, the credit spread term structure $\\lambda(T)$ generated by this model exhibits collapsing spreads for short maturities."
      ],
      "metadata": {
        "id": "YtX6RF7ALrgz"
      }
    },
    {
      "cell_type": "code",
      "source": [
        "horizons = np.geomspace(1e-5, 10, num=100)\n",
        "survival_rate = []\n",
        "a = r - 0.5 * sigma**2\n",
        "h = np.log(Df / asset_initial)\n",
        "\n",
        "for T in horizons:\n",
        "    X_T = 1 - (norm.cdf((h-a*T)/(sigma * np.sqrt(T))) +\\\n",
        "                   np.exp(2*h*a / (sigma**2)) * norm.cdf((h+a*T)/(sigma*np.sqrt(T))))\n",
        "    survival_rate.append(X_T)\n",
        "\n",
        "lambda_A = (-np.log(survival_rate)/horizons)\n",
        "\n",
        "plt.plot(horizons,lambda_A, color ='blue')\n",
        "plt.title('lambda(T)')\n",
        "plt.xlabel('horizon T')\n",
        "plt.ylabel('lambda')\n",
        "plt.show()"
      ],
      "metadata": {
        "colab": {
          "base_uri": "https://localhost:8080/",
          "height": 472
        },
        "id": "Dq4qelXgMbsY",
        "outputId": "25807ca1-2eaa-4ba2-c114-8ca2bae40584"
      },
      "execution_count": 11,
      "outputs": [
        {
          "output_type": "display_data",
          "data": {
            "text/plain": [
              "<Figure size 640x480 with 1 Axes>"
            ],
            "image/png": "[encoded data removed]"
          },
          "metadata": {}
        }
      ]
    },
    {
      "cell_type": "code",
      "source": [],
      "metadata": {
        "id": "M3N3QCbaqnB8"
      },
      "execution_count": 11,
      "outputs": []
    }
  ]
}